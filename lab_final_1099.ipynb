{
  "nbformat": 4,
  "nbformat_minor": 0,
  "metadata": {
    "colab": {
      "provenance": [],
      "gpuType": "T4",
      "authorship_tag": "ABX9TyOa6oEthTVE47xhvpBSwRyJ",
      "include_colab_link": true
    },
    "kernelspec": {
      "name": "python3",
      "display_name": "Python 3"
    },
    "language_info": {
      "name": "python"
    },
    "accelerator": "GPU"
  },
  "cells": [
    {
      "cell_type": "markdown",
      "metadata": {
        "id": "view-in-github",
        "colab_type": "text"
      },
      "source": [
        "<a href=\"https://colab.research.google.com/github/arafat420/Arafatroxi/blob/main/lab_final_1099.ipynb\" target=\"_parent\"><img src=\"https://colab.research.google.com/assets/colab-badge.svg\" alt=\"Open In Colab\"/></a>"
      ]
    },
    {
      "cell_type": "code",
      "source": [
        "n = int(input(\"Number of grammars: \"))\n",
        "grammar = []\n",
        "for i in range(n):\n",
        "    grammar.append(input(\"Enter grammar: \"))\n",
        "\n",
        "start_sym = \"\"\n",
        "productions = {}\n",
        "first_table = {}\n",
        "follow_table = {}\n",
        "\n",
        "def createProduction(grammar):\n",
        "    global start_sym\n",
        "    for production in grammar:\n",
        "        left_side, right_side = production.split(\"->\")\n",
        "        right_side = right_side.split(\"|\")\n",
        "        productions[left_side.strip()] = [rule.strip() for rule in right_side]\n",
        "        if not start_sym:\n",
        "            start_sym = left_side.strip()\n",
        "\n",
        "def isNonterminal(s):\n",
        "    return s.isupper()\n",
        "\n",
        "def firstFunc(s):\n",
        "    if s in first_table:\n",
        "        return first_table[s]\n",
        "    if isNonterminal(s):\n",
        "        first = set()\n",
        "        for x in productions[s]:\n",
        "            if x == '#':\n",
        "                first = first.union('#')\n",
        "            else:\n",
        "                for i in x:\n",
        "                    new_first = firstFunc(i)\n",
        "                    if i != x[-1]:\n",
        "                        first = first.union(new_first - {'#'})\n",
        "                    else:\n",
        "                        first = first.union(new_first)\n",
        "                    if '#' not in new_first:\n",
        "                        break\n",
        "        return first\n",
        "    else:\n",
        "        return {s}\n",
        "\n",
        "def followFunc(s):\n",
        "    if s not in follow_table:\n",
        "        follow_table[s] = set()\n",
        "    for k in productions.keys():\n",
        "        for rule in productions[k]:\n",
        "            position = rule.find(s)\n",
        "            if position != -1:\n",
        "                if position == (len(rule) - 1):\n",
        "                    if k != s:\n",
        "                        follow_table[s] = follow_table[s].union(followFunc(k))\n",
        "                else:\n",
        "                    first_next = set()\n",
        "                    for next_sym in rule[position + 1:]:\n",
        "                        new_first_next = firstFunc(next_sym)\n",
        "                        first_next = first_next.union(new_first_next - {'#'})\n",
        "                        if '#' not in new_first_next:\n",
        "                            break\n",
        "\n",
        "                    if '#' in new_first_next:\n",
        "                        if k != s:\n",
        "                            follow_table[s] = follow_table[s].union(followFunc(k))\n",
        "                            follow_table[s] = follow_table[s].union(first_next) - {'#'}\n",
        "                    else:\n",
        "                        follow_table[s] = follow_table[s].union(first_next)\n",
        "\n",
        "    return follow_table[s]\n",
        "\n",
        "def printTable():\n",
        "    print(\"First\")\n",
        "    for k in productions:\n",
        "        print(f\"{k}:\", firstFunc(k))\n",
        "    print(\"\\n-----------------------------------------------\\n\")\n",
        "    print(\"Follow\")\n",
        "    for k in productions:\n",
        "        print(f\"{k}:\", followFunc(k))\n",
        "    print(\"\\n\")\n",
        "\n",
        "createProduction(grammar)\n",
        "printTable()\n",
        "\n"
      ],
      "metadata": {
        "colab": {
          "base_uri": "https://localhost:8080/"
        },
        "id": "8YnF5LHiG3tS",
        "outputId": "2884fa97-ff67-4d08-ac2b-65624a978f1a"
      },
      "execution_count": 4,
      "outputs": [
        {
          "output_type": "stream",
          "name": "stdout",
          "text": [
            "Number of grammars: 5\n",
            "Enter grammar: E -> TR\n",
            "Enter grammar: R -> +T R | #\n",
            "Enter grammar: T -> F Y\n",
            "Enter grammar: Y -> *F Y | #\n",
            "Enter grammar: F -> (E) | i\n",
            "First\n",
            "E: {'(', 'i'}\n",
            "R: {'+', '#'}\n",
            "T: {'(', 'i'}\n",
            "Y: {'*', '#'}\n",
            "F: {'(', 'i'}\n",
            "\n",
            "-----------------------------------------------\n",
            "\n",
            "Follow\n",
            "E: {')'}\n",
            "R: {')'}\n",
            "T: {')', '+', ' '}\n",
            "Y: {')', '+', ' '}\n",
            "F: {' '}\n",
            "\n",
            "\n"
          ]
        }
      ]
    }
  ]
}